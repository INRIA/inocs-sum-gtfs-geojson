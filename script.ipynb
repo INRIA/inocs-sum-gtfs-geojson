{
 "cells": [
  {
   "cell_type": "code",
   "execution_count": null,
   "id": "6d5bd92a",
   "metadata": {},
   "outputs": [],
   "source": [
    "from sum_gtfs_geojson import SharedMobilityManager, LivingLabsCity, DataType\n",
    "import sys\n",
    "from pathlib import Path\n",
    "# sys.path.append(str(Path(__file__).parent / \"src\"))\n",
    "# or, in a notebook:\n",
    "sys.path.append(str(Path().resolve() / \"src\"))\n",
    "\n",
    "geneva_dataset = SharedMobilityManager(LivingLabsCity.GENEVA,\n",
    "                                       [DataType.ITINERARIES,\n",
    "                                        DataType.STOPS,\n",
    "                                        DataType.BIKE_TRIPS],\n",
    "                                       )\n",
    "\n",
    "pt_stops = geneva_dataset.data.public_transport.stops\n",
    "\n",
    "# To build complete routes (line itinerary), we need to load the routes, trips and stop_times\n",
    "pt_routes = geneva_dataset.data.public_transport.routes\n",
    "pt_trips = geneva_dataset.data.public_transport.trips\n",
    "pt_stop_times = geneva_dataset.data.public_transport.stop_times\n",
    "\n",
    "pt_demande = geneva_dataset.data.ridership\n",
    "bike_demand = geneva_dataset.data.bike_trips\n",
    "\n",
    "geneva_dataset.save_to_geojson()"
   ]
  }
 ],
 "metadata": {
  "kernelspec": {
   "display_name": "env",
   "language": "python",
   "name": "python3"
  },
  "language_info": {
   "codemirror_mode": {
    "name": "ipython",
    "version": 3
   },
   "file_extension": ".py",
   "mimetype": "text/x-python",
   "name": "python",
   "nbconvert_exporter": "python",
   "pygments_lexer": "ipython3",
   "version": "3.9.6"
  }
 },
 "nbformat": 4,
 "nbformat_minor": 5
}
