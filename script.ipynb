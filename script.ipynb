{
 "cells": [
  {
   "cell_type": "code",
   "execution_count": null,
   "id": "6d5bd92a",
   "metadata": {},
   "outputs": [],
   "source": [
    "\n",
    "import sys\n",
    "from pathlib import Path\n",
    "# Add the 'src' directory to sys.path\n",
    "sys.path.append(str(Path().resolve() / \"src\"))\n",
    "from sum_gtfs_geojson import SharedMobilityManager, LivingLabsCity, DataType\n",
    "\n",
    "geneva_dataset = SharedMobilityManager(city=LivingLabsCity.GENEVA,\n",
    "                                     data_types=[\n",
    "                                    #     DataType.ITINERARIES,\n",
    "                                    DataType.STOPS,\n",
    "                                    #     DataType.BIKE_STATIONS,\n",
    "                                    #     #DataType.BIKE_TRIPS\n",
    "                                    DataType.HEX_GRID\n",
    "                                        ],\n",
    "                                    #restrict_country_boundaries=True,\n",
    "                                    #    distance_radius_km=1,\n",
    "                                    #    grid_resolution=8\n",
    "                                       )\n",
    "\n",
    "# pt_stops = geneva_dataset.data.public_transport.stops\n",
    "\n",
    "# # To build complete routes (line itinerary), we need to load the routes, trips and stop_times\n",
    "# pt_routes = geneva_dataset.data.public_transport.routes\n",
    "# pt_trips = geneva_dataset.data.public_transport.trips\n",
    "# pt_stop_times = geneva_dataset.data.public_transport.stop_times\n",
    "\n",
    "# pt_demande = geneva_dataset.data.ridership\n",
    "# bike_demand = geneva_dataset.data.bike_trips\n",
    "\n",
    "geneva_dataset.save_to_geojson()"
   ]
  },
  {
   "cell_type": "markdown",
   "id": "832364e8",
   "metadata": {},
   "source": [
    "Run the following command in your terminal : \n",
    "```sh \n",
    "python -m http.server 8080\n",
    "```"
   ]
  },
  {
   "cell_type": "code",
   "execution_count": null,
   "id": "36881dd5",
   "metadata": {},
   "outputs": [],
   "source": [
    "from IPython.display import IFrame\n",
    "\n",
    "\n",
    "IFrame(src='http://localhost:8080', width=700, height=600)\n",
    "\n"
   ]
  }
 ],
 "metadata": {
  "kernelspec": {
   "display_name": "env",
   "language": "python",
   "name": "python3"
  },
  "language_info": {
   "codemirror_mode": {
    "name": "ipython",
    "version": 3
   },
   "file_extension": ".py",
   "mimetype": "text/x-python",
   "name": "python",
   "nbconvert_exporter": "python",
   "pygments_lexer": "ipython3",
   "version": "3.9.6"
  }
 },
 "nbformat": 4,
 "nbformat_minor": 5
}
