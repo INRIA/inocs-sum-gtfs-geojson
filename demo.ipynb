{
 "cells": [
  {
   "cell_type": "code",
   "execution_count": 1,
   "id": "6d5bd92a",
   "metadata": {},
   "outputs": [
    {
     "name": "stdout",
     "output_type": "stream",
     "text": [
      "Loading GTFS stops...\n",
      "Success lines to process / total lines :  3584 / 5795\n",
      "Finished loading stations, loaded counter = 3584\n",
      "Loading GTFS routes...\n",
      "Success lines to process / total lines :  81 / 81\n",
      "Finished loading routes, loaded counter = 81\n",
      "Loading GTFS trips...\n",
      "Trips lines to process:  29469\n",
      "Success lines to process / total lines :  29469 / 29469\n",
      "Finished loading trips, loaded counter = 29469\n",
      "Loading GTFS stop_times...\n",
      "Stop times lines to process:  699996\n",
      "Success lines to process / total lines :  699996 / 699996\n",
      "Finished loading stop_times, loaded counter = 699996\n",
      "Finished building itineraries, loaded counter = 73\n",
      "Loading bike sharing stations...\n",
      "Success lines to process / total lines :  600 / 628\n",
      "Finished loading bike_stations, loaded counter = 600\n",
      "Loading bike trips data...\n",
      "Success lines to process / total lines :  10707 / 12194\n",
      "Finished loading bike_trips, loaded counter = 10707\n",
      "Loading hex grid... with resolution:  8\n",
      "Generating hex grid with 4184 points.\n",
      "Hex grid generated with 349 cells.\n",
      "Finished loading hex grid, loaded counter = 349\n",
      "There are 3584 stops in the dataset\n",
      "There are 73 itineraries in the dataset\n",
      "There are 0 ridership records in the dataset\n",
      "There are 600 bike stations in the dataset\n",
      "There are 10707 bike trips in the dataset\n",
      "There are 349 hexagons in the dataset\n",
      "Exporting stops to GeoJSON...\n",
      "Exporting routes to GeoJSON...\n",
      "Exporting itineraries to GeoJSON... for itineraries count =  73\n",
      "Exported 73 itineraries to data/sum_gtfs_geojson/geojson/itineraries.geojson\n",
      "Exporting bike stations to GeoJSON...\n",
      "Exporting ridership to GeoJSON...\n",
      "Exporting bike trips to GeoJSON...\n",
      "GeoJSON files saved to data/sum_gtfs_geojson/geojson\n"
     ]
    }
   ],
   "source": [
    "\n",
    "import sys\n",
    "from pathlib import Path\n",
    "# Add the 'src' directory to sys.path\n",
    "sys.path.append(str(Path().resolve() / \"src\"))\n",
    "from sum_gtfs_geojson import SharedMobilityManager, LivingLabsCity, DataType\n",
    "\n",
    "# This script demonstrates how to use the SharedMobilityManager\n",
    "data_manager = SharedMobilityManager(city=LivingLabsCity.GENEVA,\n",
    "                                       data_types=[\n",
    "                                           DataType.ITINERARIES,\n",
    "                                           DataType.STOPS,\n",
    "                                           DataType.BIKE_STATIONS,\n",
    "                                           DataType.BIKE_TRIPS,\n",
    "                                           DataType.HEX_GRID\n",
    "                                       ],\n",
    "                                       restrict_country_boundaries=True,\n",
    "                                       distance_radius_km=10,\n",
    "                                       grid_resolution=8\n",
    "                                       )\n",
    "\n",
    "gva_data = data_manager.get_data()\n",
    "pt_stops = gva_data.public_transport.stops\n",
    "print(f\"There are {len(pt_stops)} stops in the dataset\")\n",
    "\n",
    "pt_lines_itineraries = gva_data.public_transport.itineraries\n",
    "print(f\"There are {len(pt_lines_itineraries)} itineraries in the dataset\")\n",
    "\n",
    "pt_ridership = gva_data.ridership\n",
    "print(f\"There are {len(pt_ridership)} ridership records in the dataset\")\n",
    "\n",
    "bike_stations = gva_data.bike_stations\n",
    "print(f\"There are {len(bike_stations)} bike stations in the dataset\")\n",
    "\n",
    "bike_trips = gva_data.bike_trips\n",
    "print(f\"There are {len(bike_trips)} bike trips in the dataset\")\n",
    "\n",
    "hex_grid_cells = gva_data.hex_grid.cells\n",
    "print(f\"There are {len(hex_grid_cells)} hexagons in the dataset\")\n",
    "\n",
    "# Save the data to GeoJSON files, specifying the output directory as argument\n",
    "gva_data.save_to_geojson()"
   ]
  },
  {
   "cell_type": "markdown",
   "id": "832364e8",
   "metadata": {},
   "source": [
    "Run the following command in your terminal : \n",
    "```sh \n",
    "python -m http.server 8080\n",
    "```"
   ]
  },
  {
   "cell_type": "code",
   "execution_count": null,
   "id": "36881dd5",
   "metadata": {},
   "outputs": [],
   "source": [
    "from IPython.display import IFrame\n",
    "\n",
    "\n",
    "IFrame(src='http://localhost:8080', width=700, height=600)\n",
    "\n"
   ]
  }
 ],
 "metadata": {
  "kernelspec": {
   "display_name": "env",
   "language": "python",
   "name": "python3"
  },
  "language_info": {
   "codemirror_mode": {
    "name": "ipython",
    "version": 3
   },
   "file_extension": ".py",
   "mimetype": "text/x-python",
   "name": "python",
   "nbconvert_exporter": "python",
   "pygments_lexer": "ipython3",
   "version": "3.9.6"
  }
 },
 "nbformat": 4,
 "nbformat_minor": 5
}
